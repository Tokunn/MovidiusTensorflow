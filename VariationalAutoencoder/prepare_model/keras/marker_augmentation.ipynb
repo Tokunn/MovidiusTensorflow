{
 "cells": [
  {
   "cell_type": "code",
   "execution_count": null,
   "metadata": {},
   "outputs": [],
   "source": [
    "from keras.preprocessing.image import ImageDataGenerator, img_to_array, array_to_img\n",
    "import os, glob\n",
    "from tqdm import tqdm\n",
    "import numpy as np\n",
    "\n",
    "IMG_SIZE = 64\n",
    "\n",
    "MARKER_NPY_ORIGINAL_PATH = 'images/markers/anomaly*images.npy'\n",
    "\n",
    "ANOMALY_PATH = 'images/AnomalyDetectionPictures/markers'"
   ]
  },
  {
   "cell_type": "code",
   "execution_count": null,
   "metadata": {},
   "outputs": [],
   "source": [
    "def gen_img(source_path, save_path):    \n",
    "    \n",
    "    org_list = []\n",
    "    npy_list = glob.glob(MARKER_NPY_ORIGINAL_PATH)\n",
    "    print(npy_list)\n",
    "    for npy in npy_list:\n",
    "        org_list.append(np.load(npy))\n",
    "    if (len(org_list)>1):\n",
    "        org_images = org_list[0]\n",
    "        for i in range(len(org_list)-1):\n",
    "            org_images = np.concatenate((org_images, org_list[i+1]))\n",
    "    print(org_images.shape)\n",
    "\n",
    "    train_datagen = ImageDataGenerator(rotation_range=90,\n",
    "                                      width_shift_range=0.1,\n",
    "                                      height_shift_range=0.1,\n",
    "                                      shear_range=0.05,\n",
    "                                      zoom_range=[0.8, 1.0],\n",
    "                                      horizontal_flip=True,\n",
    "                                      vertical_flip=True,\n",
    "                                      fill_mode='nearest')\n",
    "\n",
    "    train_generator = train_datagen.flow(org_images, save_to_dir= save_path, save_prefix='extend', save_format='png')\n",
    "\n",
    "    for i in tqdm(range(100)):\n",
    "        train_generator.next()"
   ]
  },
  {
   "cell_type": "code",
   "execution_count": null,
   "metadata": {},
   "outputs": [],
   "source": [
    "gen_img(MARKER_NPY_ORIGINAL_PATH, ANOMALY_PATH)"
   ]
  },
  {
   "cell_type": "code",
   "execution_count": null,
   "metadata": {},
   "outputs": [],
   "source": []
  }
 ],
 "metadata": {
  "kernelspec": {
   "display_name": "venv",
   "language": "python",
   "name": "venv"
  },
  "language_info": {
   "codemirror_mode": {
    "name": "ipython",
    "version": 3
   },
   "file_extension": ".py",
   "mimetype": "text/x-python",
   "name": "python",
   "nbconvert_exporter": "python",
   "pygments_lexer": "ipython3",
   "version": "3.6.5"
  }
 },
 "nbformat": 4,
 "nbformat_minor": 2
}
