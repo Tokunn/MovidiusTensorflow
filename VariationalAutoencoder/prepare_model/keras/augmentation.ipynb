{
 "cells": [
  {
   "cell_type": "code",
   "execution_count": null,
   "metadata": {},
   "outputs": [],
   "source": [
    "import loadimg\n",
    "from keras.preprocessing.image import ImageDataGenerator, img_to_array, array_to_img\n",
    "import os\n",
    "from tqdm import tqdm\n",
    "\n",
    "IMG_SIZE = 256\n",
    "GRAY = False\n",
    "NORMAL_ORIGINAL_PATH = 'images/AnomalyDetectionPictures/originals/normal'\n",
    "ANOMALY_ORIGINAL_PATH = 'images/AnomalyDetectionPictures/originals/anomaly'\n",
    "\n",
    "NORMAL_PATH = 'images/AnomalyDetectionPictures/normal'\n",
    "ANOMALY_PATH = 'images/AnomalyDetectionPictures/anomaly'"
   ]
  },
  {
   "cell_type": "code",
   "execution_count": null,
   "metadata": {},
   "outputs": [],
   "source": [
    "def gen_img(source_path, save_path):    \n",
    "    normal, _, _, _, _ = loadimg.loadimg(source_path,\n",
    "                                       imgsize=IMG_SIZE,\n",
    "                                       isdirs=False,\n",
    "                                       normalize=True,\n",
    "                                       onehot=True,\n",
    "                                       grayscale=GRAY,\n",
    "                                       train_ratio=1)\n",
    "\n",
    "    train_datagen = ImageDataGenerator(rotation_range=90,\n",
    "                                      width_shift_range=0.1,\n",
    "                                      height_shift_range=0.1,\n",
    "                                      shear_range=0.05,\n",
    "                                      zoom_range=[0.8, 1.0],\n",
    "                                      horizontal_flip=True,\n",
    "                                      vertical_flip=True,\n",
    "                                      fill_mode='nearest')\n",
    "\n",
    "    train_generator = train_datagen.flow(normal,\n",
    "                                     save_to_dir= save_path,\n",
    "                                     save_prefix='extend', save_format='png')\n",
    "\n",
    "    for i in tqdm(range(100)):\n",
    "        train_generator.next()"
   ]
  },
  {
   "cell_type": "code",
   "execution_count": null,
   "metadata": {},
   "outputs": [],
   "source": [
    "gen_img(NORMAL_ORIGINAL_PATH, NORMAL_PATH)\n",
    "gen_img(ANOMALY_ORIGINAL_PATH, ANOMALY_PATH)"
   ]
  },
  {
   "cell_type": "code",
   "execution_count": null,
   "metadata": {},
   "outputs": [],
   "source": []
  }
 ],
 "metadata": {
  "kernelspec": {
   "display_name": "venv",
   "language": "python",
   "name": "venv"
  },
  "language_info": {
   "codemirror_mode": {
    "name": "ipython",
    "version": 3
   },
   "file_extension": ".py",
   "mimetype": "text/x-python",
   "name": "python",
   "nbconvert_exporter": "python",
   "pygments_lexer": "ipython3",
   "version": "3.6.5"
  }
 },
 "nbformat": 4,
 "nbformat_minor": 2
}
