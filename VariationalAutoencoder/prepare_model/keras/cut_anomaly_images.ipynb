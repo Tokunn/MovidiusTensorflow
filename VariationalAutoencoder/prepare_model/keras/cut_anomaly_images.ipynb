{
 "cells": [
  {
   "cell_type": "code",
   "execution_count": null,
   "metadata": {},
   "outputs": [],
   "source": [
    "import numpy as np\n",
    "import matplotlib.pyplot as plt\n",
    "import matplotlib.colors as colors\n",
    "import os, datetime\n",
    "import loadimg\n",
    "from tqdm import tqdm\n",
    "\n",
    "from keras.preprocessing.image import load_img, img_to_array\n",
    "\n",
    "from PIL import ImageFile\n",
    "ImageFile.LOAD_TRUNCATED_IMAGES = True\n",
    "\n",
    "from inputimeout import inputimeout, TimeoutOccurred"
   ]
  },
  {
   "cell_type": "code",
   "execution_count": null,
   "metadata": {},
   "outputs": [],
   "source": [
    "SPLIT_SIZE = 64 # multiples of 4\n",
    "IMG_SIZE = 512"
   ]
  },
  {
   "cell_type": "code",
   "execution_count": null,
   "metadata": {},
   "outputs": [],
   "source": [
    "def cut_img(x, number, height=SPLIT_SIZE, width=SPLIT_SIZE):\n",
    "    print(\"cutting images ...\", flush=True)\n",
    "    x_out = []\n",
    "    x_shape = x.shape\n",
    "    #print(\"cut_img : \", x_shape)\n",
    "\n",
    "    for i in tqdm(range(number)):\n",
    "        shape_0 = np.random.randint(0,x_shape[0])\n",
    "        shape_1 = np.random.randint(0,x_shape[1]-height)\n",
    "        shape_2 = np.random.randint(0,x_shape[2]-width)\n",
    "        temp = x[shape_0, shape_1:shape_1+height, shape_2:shape_2+width]\n",
    "        #print(\"cut_img temp : \", temp.shape)\n",
    "        x_out.append(temp.reshape((height, width, x_shape[3])))\n",
    "\n",
    "    x_out = np.array(x_out)\n",
    "    #print(\"Complete.\", x_out.shape, flush=True)\n",
    "\n",
    "    return x_out"
   ]
  },
  {
   "cell_type": "code",
   "execution_count": null,
   "metadata": {},
   "outputs": [],
   "source": [
    "GRAY = False\n",
    "_, x_anomaly, _, _, _ = loadimg.loadimg('images/AnomalyDetectionPictures/anomaly',\n",
    "                                                           imgsize=IMG_SIZE,\n",
    "                                                           isdirs=False,\n",
    "                                                           normalize=True,\n",
    "                                                           onehot=True,\n",
    "                                                           grayscale=GRAY,\n",
    "                                                           train_ratio=0)\n",
    "x_anomaly_split = cut_img(x_anomaly, 2000)"
   ]
  },
  {
   "cell_type": "code",
   "execution_count": null,
   "metadata": {},
   "outputs": [],
   "source": [
    "x_anomaly_split.shape"
   ]
  },
  {
   "cell_type": "code",
   "execution_count": null,
   "metadata": {
    "scrolled": true
   },
   "outputs": [],
   "source": [
    "#anomaly_markers = []\n",
    "input(\"Start > \")\n",
    "#i = -1\n",
    "while (i < len(x_anomaly_split)-1):\n",
    "    i+=1\n",
    "    print(i)\n",
    "    img = x_anomaly_split[i]\n",
    "    \n",
    "    if np.var(img) < 0.02:\n",
    "        continue\n",
    "        \n",
    "    plt.imshow(img)\n",
    "    plt.show()\n",
    "    \n",
    "    key = input('Marker ? >')\n",
    "    try: \n",
    "        if len(key) == 0:\n",
    "            pass\n",
    "        elif (key[0] == '-') and (len(key) > 1):\n",
    "            i -= (int(key[1:])+1)\n",
    "            if (i < 0):\n",
    "                i = -1\n",
    "        else:\n",
    "            anomaly_markers.append(img)\n",
    "            print(\"add image\")\n",
    "    except ValueError:\n",
    "        key = input('Really ? >')\n",
    "    \n",
    "   "
   ]
  },
  {
   "cell_type": "code",
   "execution_count": null,
   "metadata": {},
   "outputs": [],
   "source": [
    "i"
   ]
  },
  {
   "cell_type": "code",
   "execution_count": null,
   "metadata": {
    "scrolled": true
   },
   "outputs": [],
   "source": [
    "tmp = np.asarray(anomaly_markers)\n",
    "print(len(anomaly_markers))\n",
    "for img in anomaly_markers:\n",
    "    plt.imshow(img)\n",
    "    plt.show()"
   ]
  },
  {
   "cell_type": "code",
   "execution_count": null,
   "metadata": {},
   "outputs": [],
   "source": [
    "tmp = np.asarray(anomaly_markers)\n",
    "#np.save('./models/anomaly52images.npy', tmp)"
   ]
  },
  {
   "cell_type": "code",
   "execution_count": null,
   "metadata": {},
   "outputs": [],
   "source": []
  },
  {
   "cell_type": "code",
   "execution_count": null,
   "metadata": {},
   "outputs": [],
   "source": []
  }
 ],
 "metadata": {
  "kernelspec": {
   "display_name": "venv",
   "language": "python",
   "name": "venv"
  },
  "language_info": {
   "codemirror_mode": {
    "name": "ipython",
    "version": 3
   },
   "file_extension": ".py",
   "mimetype": "text/x-python",
   "name": "python",
   "nbconvert_exporter": "python",
   "pygments_lexer": "ipython3",
   "version": "3.6.5"
  }
 },
 "nbformat": 4,
 "nbformat_minor": 2
}
